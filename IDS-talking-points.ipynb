{
 "cells": [
  {
   "cell_type": "markdown",
   "metadata": {},
   "source": [
    "# Announcing \"Introduction to Data Science\"\n",
    "\n",
    "\n",
    "#### Jointly developed by CSE, the iSchool, and Statistics.  Initial offering in Winter 2018 as STAT180\n",
    "\n",
    "\n",
    "####  Course description\n",
    "\n",
    "Introduction to the fundamentals of data science: data collection and management; summarizing and visualizing data; basic ideas of statistical inference; machine learning. Students will gain hands-on experience using the Python programming language. \n",
    "\n",
    "\n",
    "#### Target audience\n",
    "\n",
    "All undergraduates. Assumes no previuos exposure to programming or statisics. Minimal math requirements.\n",
    "\n",
    "\n",
    "#### Organization\n",
    "\n",
    "Three lectures / week plus two of hours of hands-on work in computer labs.\n",
    "\n",
    "\n",
    "#### More info\n",
    "\n",
    "[Syllabus](https://wstuetzle.github.io/IDS-syllabus-11-14-2017.html) \n",
    "https://wstuetzle.github.io/IDS-syllabus-11-14-2017.html\n",
    "\n",
    "Contact instructor:  Werner Stuetzle (wxs@uw.edu)\n",
    "\n",
    "\n"
   ]
  }
 ],
 "metadata": {
  "kernelspec": {
   "display_name": "Python 3",
   "language": "python",
   "name": "python3"
  },
  "language_info": {
   "codemirror_mode": {
    "name": "ipython",
    "version": 3
   },
   "file_extension": ".py",
   "mimetype": "text/x-python",
   "name": "python",
   "nbconvert_exporter": "python",
   "pygments_lexer": "ipython3",
   "version": "3.6.1"
  }
 },
 "nbformat": 4,
 "nbformat_minor": 2
}
