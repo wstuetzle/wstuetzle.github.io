{
 "cells": [
  {
   "cell_type": "markdown",
   "metadata": {},
   "source": [
    "# IDS Prerequisites and target audience\n",
    "\n",
    "###  Minimum prerequites: \n",
    "    * grade of 2.5 in Math098  or\n",
    "    * grade of 3.0 in in Math103  or\n",
    "    * score of 151-169 on the MPT-GS placement test  or\n",
    "    * score of 145-153 on the MPT-AS placement test  or\n",
    "    * score of 1 on the AP test\n",
    "\n",
    "If you do not satisfy the prerequisites but have taken higher level math courses or if you believe you qualify for other reasons, please contact the instructor (Werner Stuetzle, wxs@uw.edu).\n",
    "\n",
    "\n",
    "### Target audience\n",
    "\n",
    "All undergraduates, not only students with primary interest in science or engineering, are welcome. No previous exposure to programming or statistics is expected. \n",
    "\n",
    "IDS is not an appropriate course for students who have previously taken statistics courses (like STAT220, STAT311, or STAT390) __and__ programming courses (like CSE160). If in doubt, contact the instructor.\n",
    "\n"
   ]
  }
 ],
 "metadata": {
  "kernelspec": {
   "display_name": "Python 3",
   "language": "python",
   "name": "python3"
  },
  "language_info": {
   "codemirror_mode": {
    "name": "ipython",
    "version": 3
   },
   "file_extension": ".py",
   "mimetype": "text/x-python",
   "name": "python",
   "nbconvert_exporter": "python",
   "pygments_lexer": "ipython3",
   "version": "3.6.1"
  },
  "varInspector": {
   "cols": {
    "lenName": 16,
    "lenType": 16,
    "lenVar": 40
   },
   "kernels_config": {
    "python": {
     "delete_cmd_postfix": "",
     "delete_cmd_prefix": "del ",
     "library": "var_list.py",
     "varRefreshCmd": "print(var_dic_list())"
    },
    "r": {
     "delete_cmd_postfix": ") ",
     "delete_cmd_prefix": "rm(",
     "library": "var_list.r",
     "varRefreshCmd": "cat(var_dic_list()) "
    }
   },
   "types_to_exclude": [
    "module",
    "function",
    "builtin_function_or_method",
    "instance",
    "_Feature"
   ],
   "window_display": false
  }
 },
 "nbformat": 4,
 "nbformat_minor": 2
}
